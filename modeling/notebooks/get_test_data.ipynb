{
 "cells": [
  {
   "attachments": {},
   "cell_type": "markdown",
   "id": "5a4a6254-19e9-4eb9-9a24-2c0a7fe0c596",
   "metadata": {},
   "source": [
    "# Cut audio to one second chunks"
   ]
  },
  {
   "attachments": {},
   "cell_type": "markdown",
   "id": "08fc914a",
   "metadata": {},
   "source": [
    "## Edit this cell"
   ]
  },
  {
   "cell_type": "code",
   "execution_count": 1,
   "id": "4b8eab77",
   "metadata": {},
   "outputs": [],
   "source": [
    "# Add the .wav file to \"/modeling/test_data/\"\n",
    "data_folder = '../test_data/'\n",
    "\n",
    "### Edit the file name ###\n",
    "file_name = 'mixkit-urban-park-and-traffic-2932.wav'\n",
    "test_folder = 'city/'\n",
    "\n",
    "audio_output = 'audio_outputs/'\n",
    "image_output = 'image_outputs/'"
   ]
  },
  {
   "cell_type": "markdown",
   "id": "3bf4c57b-0294-4add-ad37-f8a6948a4397",
   "metadata": {},
   "source": [
    "## Import Packages"
   ]
  },
  {
   "cell_type": "code",
   "execution_count": 2,
   "id": "1b5eda21-7931-4e67-8515-21740158d240",
   "metadata": {},
   "outputs": [],
   "source": [
    "import librosa\n",
    "import numpy as np\n",
    "import matplotlib.pyplot as plt\n",
    "import soundfile as sf\n",
    "from scipy.io import wavfile\n",
    "import IPython.display as ipd\n",
    "import os"
   ]
  },
  {
   "cell_type": "markdown",
   "id": "214e55c4-ec59-4462-8710-cf1f523d1d7c",
   "metadata": {},
   "source": [
    "# Import Audio File"
   ]
  },
  {
   "cell_type": "code",
   "execution_count": 3,
   "id": "49c0ec9b-ccda-4e86-a32d-fa3d08893fe6",
   "metadata": {},
   "outputs": [
    {
     "name": "stdout",
     "output_type": "stream",
     "text": [
      "109\n"
     ]
    }
   ],
   "source": [
    "### Load data ###\n",
    "x, sr = librosa.load(data_folder + file_name)\n",
    "print(len(x)//sr)"
   ]
  },
  {
   "cell_type": "markdown",
   "id": "9cbf15c7-28c4-401e-b3e1-b9271db1887b",
   "metadata": {},
   "source": [
    "## Split into 1 Second Chunks"
   ]
  },
  {
   "cell_type": "code",
   "execution_count": 6,
   "id": "bde83ca5-60fb-4585-859c-bb76535e1f47",
   "metadata": {},
   "outputs": [],
   "source": [
    "path1 = data_folder + test_folder + audio_output\n",
    "if not os.path.exists(path1):\n",
    "    os.makedirs(path1)\n",
    "\n",
    "for i in range(0, len(x)):\n",
    "    y = x[i*sr:(i+1)*sr]\n",
    "    sf.write(path1 + str(i) + \".wav\", y, sr)"
   ]
  },
  {
   "attachments": {},
   "cell_type": "markdown",
   "id": "3a6b0976",
   "metadata": {},
   "source": [
    "## Save 1 second chunks as spectrograms"
   ]
  },
  {
   "cell_type": "code",
   "execution_count": 7,
   "id": "72321c53",
   "metadata": {},
   "outputs": [
    {
     "name": "stderr",
     "output_type": "stream",
     "text": [
      "c:\\Users\\Tyv13\\Documents\\Python\\my_env\\lib\\site-packages\\librosa\\core\\spectrum.py:256: UserWarning: n_fft=2048 is too large for input signal of length=0\n",
      "  warnings.warn(\n"
     ]
    }
   ],
   "source": [
    "names = os.listdir(path1)\n",
    "counter = 1\n",
    "for name in names:\n",
    "    # Load data\n",
    "    y, sr = librosa.load(path1 + name)\n",
    "\n",
    "    # Create plot\n",
    "    fig = plt.figure();\n",
    "    plt.axis('off');\n",
    "    S = librosa.feature.melspectrogram(y=y, sr=sr, n_mels=128)\n",
    "    S_dB = librosa.power_to_db(S, ref=np.max)\n",
    "    librosa.display.specshow(S_dB, x_axis='s', y_axis='mel', sr=sr)\n",
    "\n",
    "    path2 = data_folder + test_folder + image_output\n",
    "    if not os.path.exists(path2):\n",
    "        os.makedirs(path2)\n",
    "    \n",
    "    # Save plot\n",
    "    fig.savefig(path2 + name.split('.')[0] + '.png');\n",
    "    plt.close()\n",
    "    counter += 1"
   ]
  },
  {
   "cell_type": "code",
   "execution_count": null,
   "id": "708d0f23",
   "metadata": {},
   "outputs": [],
   "source": []
  }
 ],
 "metadata": {
  "kernelspec": {
   "display_name": "Python 3 (ipykernel)",
   "language": "python",
   "name": "python3"
  },
  "language_info": {
   "codemirror_mode": {
    "name": "ipython",
    "version": 3
   },
   "file_extension": ".py",
   "mimetype": "text/x-python",
   "name": "python",
   "nbconvert_exporter": "python",
   "pygments_lexer": "ipython3",
   "version": "3.10.10"
  }
 },
 "nbformat": 4,
 "nbformat_minor": 5
}
