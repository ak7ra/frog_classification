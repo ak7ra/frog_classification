{
 "cells": [
  {
   "cell_type": "code",
   "execution_count": 1,
   "metadata": {},
   "outputs": [],
   "source": [
    "import os  "
   ]
  },
  {
   "cell_type": "code",
   "execution_count": 17,
   "metadata": {},
   "outputs": [],
   "source": [
    "path = '../10/'\n",
    "files = os.listdir(path)"
   ]
  },
  {
   "cell_type": "code",
   "execution_count": 18,
   "metadata": {},
   "outputs": [
    {
     "data": {
      "text/plain": [
       "['1017-sc28418-E-petersi-km22mono.WAV_102.png',\n",
       " '1017-sc28418-E-petersi-km22mono.WAV_104.png',\n",
       " '1017-sc28418-E-petersi-km22mono.WAV_105.png',\n",
       " '1017-sc28418-E-petersi-km22mono.WAV_107.png',\n",
       " '1017-sc28418-E-petersi-km22mono.WAV_110.png',\n",
       " '1017-sc28418-E-petersi-km22mono.WAV_112.png',\n",
       " '1017-sc28418-E-petersi-km22mono.WAV_114.png',\n",
       " '1017-sc28418-E-petersi-km22mono.WAV_116.png',\n",
       " '1017-sc28418-E-petersi-km22mono.WAV_117.png',\n",
       " '1017-sc28418-E-petersi-km22mono.WAV_128.png',\n",
       " '1017-sc28418-E-petersi-km22mono.WAV_20.png',\n",
       " '1017-sc28418-E-petersi-km22mono.WAV_24.png',\n",
       " '1017-sc28418-E-petersi-km22mono.WAV_35.png',\n",
       " '1017-sc28418-E-petersi-km22mono.WAV_41.png',\n",
       " '1017-sc28418-E-petersi-km22mono.WAV_42.png',\n",
       " '1017-sc28418-E-petersi-km22mono.WAV_43.png',\n",
       " '1017-sc28418-E-petersi-km22mono.WAV_44.png',\n",
       " '1017-sc28418-E-petersi-km22mono.WAV_50.png',\n",
       " '1017-sc28418-E-petersi-km22mono.WAV_51.png',\n",
       " '1017-sc28418-E-petersi-km22mono.WAV_53.png',\n",
       " '1017-sc28418-E-petersi-km22mono.WAV_54.png',\n",
       " '1017-sc28418-E-petersi-km22mono.WAV_82.png',\n",
       " '1017-sc28418-E-petersi-km22mono.WAV_86.png',\n",
       " '1017-sc28418-E-petersi-km22mono.WAV_92.png',\n",
       " '1019-sc28436-E-petersi-km10_Daniel1.WAV_1.png',\n",
       " '1019-sc28436-E-petersi-km10_Daniel1.WAV_12.png',\n",
       " '1019-sc28436-E-petersi-km10_Daniel1.WAV_13.png',\n",
       " '1019-sc28436-E-petersi-km10_Daniel1.WAV_14.png',\n",
       " '1019-sc28436-E-petersi-km10_Daniel1.WAV_16.png',\n",
       " '1019-sc28436-E-petersi-km10_Daniel1.WAV_17.png',\n",
       " '1019-sc28436-E-petersi-km10_Daniel1.WAV_18.png',\n",
       " '1019-sc28436-E-petersi-km10_Daniel1.WAV_2.png',\n",
       " '1019-sc28436-E-petersi-km10_Daniel1.WAV_33.png',\n",
       " '1019-sc28436-E-petersi-km10_Daniel1.WAV_35.png',\n",
       " '1019-sc28436-E-petersi-km10_Daniel1.WAV_36.png',\n",
       " '1019-sc28436-E-petersi-km10_Daniel1.WAV_37.png',\n",
       " '1019-sc28436-E-petersi-km10_Daniel1.WAV_4.png',\n",
       " '1019-sc28436-E-petersi-km10_Daniel1.WAV_40.png',\n",
       " '1019-sc28436-E-petersi-km10_Daniel1.WAV_41.png',\n",
       " '1019-sc28436-E-petersi-km10_Daniel1.WAV_44.png',\n",
       " '1019-sc28436-E-petersi-km10_Daniel1.WAV_45.png',\n",
       " '1019-sc28436-E-petersi-km10_Daniel1.WAV_46.png',\n",
       " '1019-sc28436-E-petersi-km10_Daniel1.WAV_49.png',\n",
       " '1019-sc28436-E-petersi-km10_Daniel1.WAV_50.png',\n",
       " '1019-sc28436-E-petersi-km10_Daniel1.WAV_51.png',\n",
       " '1019-sc28436-E-petersi-km10_Daniel1.WAV_53.png',\n",
       " '1019-sc28436-E-petersi-km10_Daniel1.WAV_55.png',\n",
       " '1019-sc28436-E-petersi-km10_Daniel1.WAV_57.png',\n",
       " '1019-sc28436-E-petersi-km10_Daniel1.WAV_59.png',\n",
       " '1019-sc28436-E-petersi-km10_Daniel1.WAV_60.png',\n",
       " '1019-sc28436-E-petersi-km10_Daniel1.WAV_61.png',\n",
       " '1019-sc28436-E-petersi-km10_Daniel1.WAV_63.png',\n",
       " '1019-sc28436-E-petersi-km10_Daniel1.WAV_64.png',\n",
       " '1019-sc28436-E-petersi-km10_Daniel1.WAV_65.png',\n",
       " '1019-sc28436-E-petersi-km10_Daniel1.WAV_66.png',\n",
       " '1019-sc28436-E-petersi-km10_Daniel1.WAV_67.png',\n",
       " '1019-sc28436-E-petersi-km10_Daniel1.WAV_69.png',\n",
       " '1019-sc28436-E-petersi-km10_Daniel1.WAV_71.png',\n",
       " '1019-sc28436-E-petersi-km10_Daniel1.WAV_9.png',\n",
       " '1021-sc28494-E-petersi.WAV_11.png',\n",
       " '1021-sc28494-E-petersi.WAV_13.png',\n",
       " '1021-sc28494-E-petersi.WAV_15.png',\n",
       " '1021-sc28494-E-petersi.WAV_16.png',\n",
       " '1021-sc28494-E-petersi.WAV_17.png',\n",
       " '1021-sc28494-E-petersi.WAV_2.png',\n",
       " '1021-sc28494-E-petersi.WAV_3.png',\n",
       " '1021-sc28494-E-petersi.WAV_49.png',\n",
       " '1021-sc28494-E-petersi.WAV_58.png',\n",
       " '1021-sc28494-E-petersi.WAV_59.png',\n",
       " '1021-sc28494-E-petersi.WAV_60.png',\n",
       " '1021-sc28494-E-petersi.WAV_61.png',\n",
       " '1021-sc28494-E-petersi.WAV_64.png',\n",
       " '1021-sc28494-E-petersi.WAV_66.png',\n",
       " '1021-sc28494-E-petersi.WAV_72.png',\n",
       " '1021-sc28494-E-petersi.WAV_73.png',\n",
       " '1021-sc28494-E-petersi.WAV_74.png',\n",
       " '1021-sc28494-E-petersi.WAV_75.png',\n",
       " '1021-sc28494-E-petersi.WAV_77.png',\n",
       " 'E-petersi-km-40-sc10741.WAV_23.png',\n",
       " 'E-petersi-km-40-sc10741.WAV_28.png',\n",
       " 'E-petersi-km-40-sc10741.WAV_31.png',\n",
       " 'E-petersi-km-40-sc10741.WAV_32.png',\n",
       " 'E-petersi-km-40-sc10741.WAV_34.png',\n",
       " 'E-petersi-km-40-sc10741.WAV_35.png',\n",
       " 'E-petersi-km-40-sc10741.WAV_36.png',\n",
       " 'E-petersi-km-40-sc10741.WAV_38.png',\n",
       " 'E-petersi-km-40-sc10741.WAV_40.png',\n",
       " 'E-petersi-km-40-sc10741.WAV_43.png',\n",
       " 'E-petersi-km-40-sc10741.WAV_49.png',\n",
       " 'LS100158 E. petersi no capturado_Daniel1.WAV_1.png',\n",
       " 'LS100158 E. petersi no capturado_Daniel1.WAV_11.png',\n",
       " 'LS100158 E. petersi no capturado_Daniel1.WAV_12.png',\n",
       " 'LS100158 E. petersi no capturado_Daniel1.WAV_14.png',\n",
       " 'LS100158 E. petersi no capturado_Daniel1.WAV_37.png',\n",
       " 'LS100158 E. petersi no capturado_Daniel1.WAV_38.png',\n",
       " 'LS100158 E. petersi no capturado_Daniel1.WAV_43.png',\n",
       " 'LS100158 E. petersi no capturado_Daniel1.WAV_47.png',\n",
       " 'LS100158 E. petersi no capturado_Daniel1.WAV_51.png',\n",
       " 'LS100158 E. petersi no capturado_Daniel1.WAV_52.png',\n",
       " 'LS100158 E. petersi no capturado_Daniel1.WAV_8.png']"
      ]
     },
     "execution_count": 18,
     "metadata": {},
     "output_type": "execute_result"
    }
   ],
   "source": [
    "files"
   ]
  },
  {
   "cell_type": "code",
   "execution_count": 19,
   "metadata": {},
   "outputs": [],
   "source": [
    "index=1\n",
    "for index, file in enumerate(files):\n",
    "     os.rename(os.path.join(path, file), os.path.join(path,''.join([str(index),'.png'])))\n",
    "     index = index+1\n"
   ]
  }
 ],
 "metadata": {
  "kernelspec": {
   "display_name": "my_env",
   "language": "python",
   "name": "python3"
  },
  "language_info": {
   "codemirror_mode": {
    "name": "ipython",
    "version": 3
   },
   "file_extension": ".py",
   "mimetype": "text/x-python",
   "name": "python",
   "nbconvert_exporter": "python",
   "pygments_lexer": "ipython3",
   "version": "3.10.10"
  },
  "orig_nbformat": 4
 },
 "nbformat": 4,
 "nbformat_minor": 2
}
