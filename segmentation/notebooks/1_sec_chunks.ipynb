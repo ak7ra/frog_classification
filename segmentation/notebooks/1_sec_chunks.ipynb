{
 "cells": [
  {
   "cell_type": "markdown",
   "id": "5a4a6254-19e9-4eb9-9a24-2c0a7fe0c596",
   "metadata": {},
   "source": [
    "# CUT FROG AUDIO TO ONE SECOND CHUNKS"
   ]
  },
  {
   "cell_type": "markdown",
   "id": "3bf4c57b-0294-4add-ad37-f8a6948a4397",
   "metadata": {},
   "source": [
    "## Import Packages"
   ]
  },
  {
   "cell_type": "code",
   "execution_count": 1,
   "id": "1b5eda21-7931-4e67-8515-21740158d240",
   "metadata": {},
   "outputs": [],
   "source": [
    "import librosa\n",
    "import numpy as np\n",
    "import matplotlib.pyplot as plt\n",
    "import soundfile as sf\n",
    "from scipy.io import wavfile\n",
    "import IPython.display as ipd\n",
    "import os"
   ]
  },
  {
   "cell_type": "markdown",
   "id": "214e55c4-ec59-4462-8710-cf1f523d1d7c",
   "metadata": {},
   "source": [
    "# Import Audio File"
   ]
  },
  {
   "cell_type": "code",
   "execution_count": 4,
   "id": "49c0ec9b-ccda-4e86-a32d-fa3d08893fe6",
   "metadata": {},
   "outputs": [
    {
     "name": "stdout",
     "output_type": "stream",
     "text": [
      "1719\n"
     ]
    }
   ],
   "source": [
    "file_name='../test_data/cc149A.wav'\n",
    "\n",
    "### Load data ###\n",
    "x, sr = librosa.load(file_name)\n",
    "print(len(x)//sr)"
   ]
  },
  {
   "cell_type": "markdown",
   "id": "9cbf15c7-28c4-401e-b3e1-b9271db1887b",
   "metadata": {},
   "source": [
    "## Split into 1 Second Chunks"
   ]
  },
  {
   "cell_type": "code",
   "execution_count": 35,
   "id": "bde83ca5-60fb-4585-859c-bb76535e1f47",
   "metadata": {},
   "outputs": [],
   "source": [
    "path3 = \"../test_data/cc149A/audio_outputs/\" \n",
    "if not os.path.exists(path3):\n",
    "    os.makedirs(path3)\n",
    "\n",
    "for i in range(270, 390):\n",
    "    y = x[i*sr:(i+1)*sr]\n",
    "    sf.write(\"../test_data/cc149A/audio_outputs/\" + str(i) + \".WAV\", y, sr)"
   ]
  },
  {
   "attachments": {},
   "cell_type": "markdown",
   "id": "3a6b0976",
   "metadata": {},
   "source": [
    "## Save 1 second chunks as spectrograms"
   ]
  },
  {
   "cell_type": "code",
   "execution_count": 36,
   "id": "72321c53",
   "metadata": {},
   "outputs": [],
   "source": [
    "names = os.listdir('../test_data/cc149a/audio_outputs/')\n",
    "counter = 1\n",
    "for name in names:\n",
    "    # Load data\n",
    "    y, sr = librosa.load('../test_data/cc149a/audio_outputs/' + name)\n",
    "\n",
    "    # Create plot\n",
    "    fig = plt.figure();\n",
    "    plt.axis('off');\n",
    "    S = librosa.feature.melspectrogram(y=y, sr=sr, n_mels=128)\n",
    "    S_dB = librosa.power_to_db(S, ref=np.max)\n",
    "    librosa.display.specshow(S_dB, x_axis='s', y_axis='mel', sr=sr)\n",
    "\n",
    "    path3 = '../test_data/cc149a/image_outputs/'\n",
    "    if not os.path.exists(path3):\n",
    "        os.makedirs(path3)\n",
    "    \n",
    "    # Save plot\n",
    "    fig.savefig('../test_data/cc149a/image_outputs/' + name.split('.')[0] + '.png');\n",
    "    plt.close()\n",
    "    counter += 1"
   ]
  },
  {
   "cell_type": "code",
   "execution_count": null,
   "id": "708d0f23",
   "metadata": {},
   "outputs": [],
   "source": []
  }
 ],
 "metadata": {
  "kernelspec": {
   "display_name": "Python 3 (ipykernel)",
   "language": "python",
   "name": "python3"
  },
  "language_info": {
   "codemirror_mode": {
    "name": "ipython",
    "version": 3
   },
   "file_extension": ".py",
   "mimetype": "text/x-python",
   "name": "python",
   "nbconvert_exporter": "python",
   "pygments_lexer": "ipython3",
   "version": "3.10.10"
  }
 },
 "nbformat": 4,
 "nbformat_minor": 5
}
