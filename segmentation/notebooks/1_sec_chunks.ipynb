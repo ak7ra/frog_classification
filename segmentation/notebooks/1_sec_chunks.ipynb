{
 "cells": [
  {
   "cell_type": "markdown",
   "id": "5a4a6254-19e9-4eb9-9a24-2c0a7fe0c596",
   "metadata": {},
   "source": [
    "# CUT FROG AUDIO TO ONE SECOND CHUNKS"
   ]
  },
  {
   "cell_type": "markdown",
   "id": "3bf4c57b-0294-4add-ad37-f8a6948a4397",
   "metadata": {},
   "source": [
    "## Import Packages"
   ]
  },
  {
   "cell_type": "code",
   "execution_count": 1,
   "id": "1b5eda21-7931-4e67-8515-21740158d240",
   "metadata": {},
   "outputs": [],
   "source": [
    "import librosa\n",
    "import numpy as np\n",
    "import matplotlib.pyplot as plt\n",
    "import soundfile as sf\n",
    "from scipy.io import wavfile\n",
    "import IPython.display as ipd\n",
    "import os"
   ]
  },
  {
   "cell_type": "markdown",
   "id": "214e55c4-ec59-4462-8710-cf1f523d1d7c",
   "metadata": {},
   "source": [
    "# Import Audio File"
   ]
  },
  {
   "cell_type": "code",
   "execution_count": 24,
   "id": "49c0ec9b-ccda-4e86-a32d-fa3d08893fe6",
   "metadata": {},
   "outputs": [
    {
     "name": "stdout",
     "output_type": "stream",
     "text": [
      "1719\n"
     ]
    }
   ],
   "source": [
    "pathname='/Users/meldrumapple/Desktop/DL'\n",
    "os.chdir(pathname)\n",
    "file_name = 'cc149A.wav'\n",
    "\n",
    "### Load data ###\n",
    "x, sr = librosa.load(file_name)\n",
    "print(len(x)//sr)"
   ]
  },
  {
   "cell_type": "markdown",
   "id": "9cbf15c7-28c4-401e-b3e1-b9271db1887b",
   "metadata": {},
   "source": [
    "## Split into 1 Second Chunks"
   ]
  },
  {
   "cell_type": "code",
   "execution_count": 25,
   "id": "bde83ca5-60fb-4585-859c-bb76535e1f47",
   "metadata": {},
   "outputs": [],
   "source": [
    "for i in range(270, 390):\n",
    "    y = x[i*sr:(i+1)*sr]\n",
    "    sf.write('/Users/meldrumapple/Desktop/DL/audio_files/'+str(i)+\".wav\", y, sr)"
   ]
  },
  {
   "cell_type": "code",
   "execution_count": null,
   "id": "c48c40b3-6075-443a-a9c5-a5ee70dbb9cb",
   "metadata": {},
   "outputs": [],
   "source": []
  }
 ],
 "metadata": {
  "kernelspec": {
   "display_name": "Python 3 (ipykernel)",
   "language": "python",
   "name": "python3"
  },
  "language_info": {
   "codemirror_mode": {
    "name": "ipython",
    "version": 3
   },
   "file_extension": ".py",
   "mimetype": "text/x-python",
   "name": "python",
   "nbconvert_exporter": "python",
   "pygments_lexer": "ipython3",
   "version": "3.9.12"
  }
 },
 "nbformat": 4,
 "nbformat_minor": 5
}
