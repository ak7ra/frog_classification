{
 "cells": [
  {
   "cell_type": "code",
   "execution_count": 2,
   "id": "aa1e8fbc-4b63-43c9-9533-38c7c1844870",
   "metadata": {},
   "outputs": [],
   "source": [
    "import librosa\n",
    "import numpy as np\n",
    "import matplotlib.pyplot as plt\n",
    "import soundfile as sf\n",
    "from scipy.io import wavfile\n",
    "import os"
   ]
  },
  {
   "cell_type": "markdown",
   "id": "f54c91f8-a603-4791-83ee-ae44a7557f54",
   "metadata": {},
   "source": [
    "## Modify this cell to match your directory and .WAV file name"
   ]
  },
  {
   "cell_type": "code",
   "execution_count": 164,
   "id": "c797a7b1-9aba-456b-ab5b-2036f1e1e3b1",
   "metadata": {},
   "outputs": [],
   "source": [
    "data_folder = '../data/'\n",
    "species_folder = '10/'\n",
    "\n",
    "# file names cannot have \".\" or \"_\" characters -> rename the file before running code\n",
    "file_name = 'LS100158 E petersi no capturadoDaniel1.WAV'\n",
    "\n",
    "audio_output = 'audio_outputs/'\n",
    "image_output = 'image_outputs/'"
   ]
  },
  {
   "cell_type": "markdown",
   "id": "57c1f953-62b3-41eb-9e1d-c200e5acc554",
   "metadata": {},
   "source": [
    "## Split `file_name` into multiple audio files based on segmentation method"
   ]
  },
  {
   "cell_type": "code",
   "execution_count": 165,
   "id": "984b4e44-e004-482d-b794-32561e9babad",
   "metadata": {},
   "outputs": [],
   "source": [
    "### Load data ###\n",
    "y, sr = librosa.load(data_folder + species_folder + file_name)\n",
    "onset_frames = librosa.onset.onset_detect(y=y, sr=sr, wait=1, pre_avg=1, post_avg=1, pre_max=1, post_max=1)\n",
    "onset_times = librosa.frames_to_time(onset_frames)\n",
    "    \n",
    "### Save segmented audio files ###\n",
    "y, s = librosa.load(data_folder + species_folder + file_name, sr=sr)\n",
    "sf.write(data_folder + species_folder + file_name, y, s, \"PCM_24\")\n",
    "rate, data = wavfile.read(data_folder + species_folder + file_name)\n",
    "    \n",
    "# Create folder for outputs\n",
    "path = data_folder + species_folder + file_name.split('.')[0] + '/'\n",
    "if not os.path.exists(path):\n",
    "    os.makedirs(path)\n",
    "    \n",
    "# Create folder for audio output\n",
    "path2 = data_folder + species_folder + file_name.split('.')[0] + '/' + audio_output\n",
    "if not os.path.exists(path2):\n",
    "    os.makedirs(path2)\n",
    "    \n",
    "counter = 1\n",
    "for time in onset_times:\n",
    "    # the timestamp to split at (in seconds)\n",
    "    split_at_timestamp_left = time-0.5\n",
    "    split_at_timestamp_right = time+0.5\n",
    "\n",
    "    # get the frame to split at\n",
    "    split_at_frame_left = int(rate * split_at_timestamp_left)\n",
    "    split_at_frame_right = int(rate * split_at_timestamp_right)\n",
    "\n",
    "    # split\n",
    "    split_wav = data[split_at_frame_left:split_at_frame_right] # split\n",
    "    \n",
    "    # filename\n",
    "    filename = data_folder + species_folder + file_name.split('.')[0] + '/' + \\\n",
    "            audio_output + file_name.split('.')[0] + '_' +str(counter) + '.wav'\n",
    "\n",
    "    # save the result\n",
    "    wavfile.write(filename, rate, split_wav)\n",
    "    counter += 1"
   ]
  },
  {
   "cell_type": "markdown",
   "id": "f143453f-4b63-4cb9-a5e4-4e206fd1a2a5",
   "metadata": {},
   "source": [
    "## Save a spectrogram for each of the segmented audio files made from `file_name` "
   ]
  },
  {
   "cell_type": "code",
   "execution_count": 166,
   "id": "82abd67f-5b13-4f48-952b-0861ef255aa2",
   "metadata": {},
   "outputs": [],
   "source": [
    "names = os.listdir(data_folder + species_folder + file_name.split('.')[0] + '/' + audio_output)\n",
    "counter = 1\n",
    "for name in names:\n",
    "    # Load data\n",
    "    y, sr = librosa.load(data_folder + species_folder + file_name.split('.')[0].split('_')[0] + '/' \\\n",
    "                         + audio_output + name)\n",
    "\n",
    "    # Create plot\n",
    "    fig = plt.figure();\n",
    "    plt.axis('off');\n",
    "    S = librosa.feature.melspectrogram(y=y, sr=sr, n_mels=128)\n",
    "    S_dB = librosa.power_to_db(S, ref=np.max)\n",
    "    librosa.display.specshow(S_dB, x_axis='s', y_axis='mel', sr=sr)\n",
    "\n",
    "    path3 = data_folder + species_folder + file_name.split('.')[0] + '/' + image_output\n",
    "    if not os.path.exists(path3):\n",
    "        os.makedirs(path3)\n",
    "    \n",
    "    # Save plot\n",
    "    fig.savefig(data_folder + species_folder + file_name.split('.')[0] + '/' + \\\n",
    "                image_output + name.split('.')[0] + '.png');\n",
    "    plt.close()\n",
    "    counter += 1"
   ]
  },
  {
   "cell_type": "code",
   "execution_count": null,
   "id": "ebfb8ad6-dc6c-4c16-a1c1-27d039334678",
   "metadata": {},
   "outputs": [],
   "source": []
  }
 ],
 "metadata": {
  "kernelspec": {
   "display_name": "Python 3 (ipykernel)",
   "language": "python",
   "name": "python3"
  },
  "language_info": {
   "codemirror_mode": {
    "name": "ipython",
    "version": 3
   },
   "file_extension": ".py",
   "mimetype": "text/x-python",
   "name": "python",
   "nbconvert_exporter": "python",
   "pygments_lexer": "ipython3",
   "version": "3.9.13"
  }
 },
 "nbformat": 4,
 "nbformat_minor": 5
}
