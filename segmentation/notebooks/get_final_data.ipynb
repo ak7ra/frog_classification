{
 "cells": [
  {
   "cell_type": "code",
   "execution_count": null,
   "metadata": {},
   "outputs": [],
   "source": [
    "import shutil\n",
    "import os"
   ]
  },
  {
   "cell_type": "code",
   "execution_count": null,
   "metadata": {},
   "outputs": [],
   "source": [
    "good_nums = [15, 16, 17]\n",
    "data_folder = '../data/'\n",
    "species_folder = '2_new/'\n",
    "file_name = 'LS100120'\n",
    "\n",
    "audio_output = 'audio_outputs/'\n",
    "image_output = 'image_outputs/'"
   ]
  },
  {
   "cell_type": "code",
   "execution_count": null,
   "metadata": {},
   "outputs": [],
   "source": [
    "for x in good_nums:\n",
    "    audio_file = file_name + '.WAV_' + str(x) + '.wav'\n",
    "    image_file = file_name + '.WAV_' + str(x) + '.png'\n",
    "    path = data_folder + species_folder + file_name + '/' \n",
    "    new_path = data_folder + species_folder + '/final_files' + '/'\n",
    "\n",
    "    if not os.path.exists(new_path + audio_output + audio_file):\n",
    "        os.makedirs(new_path + audio_output + audio_file)\n",
    "    shutil.copy(path + audio_output + audio_file, new_path + audio_output + audio_file)\n",
    "\n",
    "    if not os.path.exists(new_path + image_output + image_file):\n",
    "        os.makedirs(new_path + image_output + image_file)\n",
    "    shutil.copy(path + image_output + image_file, new_path + image_output + image_file)"
   ]
  }
 ],
 "metadata": {
  "kernelspec": {
   "display_name": "my_env",
   "language": "python",
   "name": "python3"
  },
  "language_info": {
   "codemirror_mode": {
    "name": "ipython",
    "version": 3
   },
   "file_extension": ".py",
   "mimetype": "text/x-python",
   "name": "python",
   "nbconvert_exporter": "python",
   "pygments_lexer": "ipython3",
   "version": "3.10.10"
  },
  "orig_nbformat": 4
 },
 "nbformat": 4,
 "nbformat_minor": 2
}
