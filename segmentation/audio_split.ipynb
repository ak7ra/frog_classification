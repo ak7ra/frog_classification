{
 "cells": [
  {
   "cell_type": "markdown",
   "id": "34c49e21-1418-4a51-bd2c-8bcea7065e45",
   "metadata": {},
   "source": [
    "# Splitting Audio"
   ]
  },
  {
   "cell_type": "code",
   "execution_count": 21,
   "id": "aa1e8fbc-4b63-43c9-9533-38c7c1844870",
   "metadata": {},
   "outputs": [],
   "source": [
    "import librosa.display #librosa #, \n",
    "import numpy as np\n",
    "import matplotlib.pyplot as plt\n",
    "import soundfile as sf\n",
    "from scipy.io import wavfile\n",
    "\n",
    "import os"
   ]
  },
  {
   "cell_type": "code",
   "execution_count": 22,
   "id": "984b4e44-e004-482d-b794-32561e9babad",
   "metadata": {},
   "outputs": [],
   "source": [
    "x, sr = librosa.load('H.lanciformis2.WAV')\n",
    "onset_frames = librosa.onset.onset_detect(y=x, sr=sr, wait=1, pre_avg=1, post_avg=1, pre_max=1, post_max=1)\n",
    "onset_times = librosa.frames_to_time(onset_frames)"
   ]
  },
  {
   "cell_type": "code",
   "execution_count": 24,
   "id": "96ce152e-a936-47bf-82d7-2eca6ec23d55",
   "metadata": {},
   "outputs": [
    {
     "data": {
      "text/plain": [
       "135"
      ]
     },
     "execution_count": 24,
     "metadata": {},
     "output_type": "execute_result"
    }
   ],
   "source": [
    "len(onset_times)"
   ]
  },
  {
   "cell_type": "code",
   "execution_count": 23,
   "id": "3bb53c9e-c9d2-4bc2-8e58-c1c970bf3db9",
   "metadata": {},
   "outputs": [
    {
     "name": "stderr",
     "output_type": "stream",
     "text": [
      "/var/folders/fz/w6ggb67x2gj04ph736q3_nnm0000gn/T/ipykernel_1075/1028954607.py:2: WavFileWarning: Chunk (non-data) not understood, skipping it.\n",
      "  rate, data = wavfile.read('H.lanciformis2.WAV')\n"
     ]
    }
   ],
   "source": [
    "os.chdir('/Users/amikano/Documents/MSDS/DS6050/Project/personal_edits/segmentation')\n",
    "rate, data = wavfile.read('H.lanciformis2.WAV') \n",
    "\n",
    "os.chdir('/Users/amikano/Documents/MSDS/DS6050/Project/personal_edits/segmented_files')\n",
    "\n",
    "counter = 1\n",
    "for time in onset_times:\n",
    "    # the timestamp to split at (in seconds)\n",
    "    split_at_timestamp_left = time-0.5\n",
    "    split_at_timestamp_right = time+0.5\n",
    "\n",
    "    # get the frame to split at\n",
    "    split_at_frame_left = int(rate * split_at_timestamp_left)\n",
    "    split_at_frame_right = int(rate * split_at_timestamp_right)\n",
    "\n",
    "    # split\n",
    "    split_wav = data[split_at_frame_left:split_at_frame_right] # split\n",
    "    \n",
    "    # filename\n",
    "    filename = 'H.lanciformis2_' + str(counter) + '.wav'\n",
    "\n",
    "    # save the result\n",
    "    wavfile.write(filename, rate, split_wav)\n",
    "    \n",
    "    counter += 1"
   ]
  }
 ],
 "metadata": {
  "kernelspec": {
   "display_name": "Python 3 (ipykernel)",
   "language": "python",
   "name": "python3"
  },
  "language_info": {
   "codemirror_mode": {
    "name": "ipython",
    "version": 3
   },
   "file_extension": ".py",
   "mimetype": "text/x-python",
   "name": "python",
   "nbconvert_exporter": "python",
   "pygments_lexer": "ipython3",
   "version": "3.9.13"
  }
 },
 "nbformat": 4,
 "nbformat_minor": 5
}
